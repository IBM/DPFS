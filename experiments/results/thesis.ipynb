{
 "cells": [
  {
   "cell_type": "code",
   "execution_count": 1,
   "id": "5d420597-0b12-4aeb-9ac5-cb8dd3449195",
   "metadata": {},
   "outputs": [],
   "source": [
    "import regex as re\n",
    "import numpy as np\n",
    "from statistics import mean, stdev\n",
    "import matplotlib\n",
    "import random\n",
    "import matplotlib.pyplot as plt\n",
    "from matplotlib.lines import Line2D\n",
    "#from bento_bench import bar_plot, parse_elapsed_secs, get_avg_from_table_str, set_size\n",
    "import pandas as pd\n",
    "import json\n",
    "import os\n",
    "import seaborn as sns\n",
    "import dpfs\n",
    "from dpfs import *\n",
    "# matplotlib.use(\"pgf\")\n",
    "matplotlib.rcParams.update({\n",
    "    #\"pgf.texsystem\": \"pdflatex\",\n",
    "    \"font.family\": \"serif\",\n",
    "    #\"font.serif\": 'DejaVu Serif',\n",
    "    #'text.usetex': False,\n",
    "#     'pgf.rcfonts': False,\n",
    "    \"font.size\": 18,\n",
    "    #\"font.weight\": \"bold\",\n",
    "    'ps.useafm': True,\n",
    "    \"pdf.use14corefonts\": True,\n",
    "    \"text.usetex\": True,\n",
    "})\n",
    "\n",
    "TARGET = \"./thesis/\"\n",
    "OUT = TARGET + \"/out/\""
   ]
  },
  {
   "cell_type": "code",
   "execution_count": null,
   "id": "bc7ad04c-0f4e-41c6-9f1f-055cc7c67c4c",
   "metadata": {},
   "outputs": [
    {
     "name": "stdout",
     "output_type": "stream",
     "text": [
      "              conf         RW   BS   QD  P  IOPS_avg  IOPS_stdev  clat_avg  \\\n",
      "0    DPFS-NFS-post   randread   4k    1  1  10987.19       75.34     85.86   \n",
      "1    DPFS-NFS-post   randread   4k    2  1  20358.78      153.70     93.39   \n",
      "2    DPFS-NFS-post   randread   4k    4  1  29877.17      137.43    129.07   \n",
      "3    DPFS-NFS-post   randread   4k    8  1  52520.12     3843.06    147.61   \n",
      "4    DPFS-NFS-post   randread   4k   16  1  57270.19      305.40    274.28   \n",
      "..             ...        ...  ...  ... ..       ...         ...       ...   \n",
      "265  DPFS-NULL-pre  randwrite  64k   64  8  72332.77     2983.79   7209.97   \n",
      "266  DPFS-NULL-pre  randwrite  64k  128  1  74351.35      342.55   1720.45   \n",
      "267  DPFS-NULL-pre  randwrite  64k  128  2  74048.97     2990.56   3490.97   \n",
      "268  DPFS-NULL-pre  randwrite  64k  128  4  73392.82     3585.12   7103.90   \n",
      "269  DPFS-NULL-pre  randwrite  64k  128  8  74422.38     5596.76  14804.36   \n",
      "\n",
      "     clat_stdev       bw_avg    bw_stdev  \n",
      "0         16.81    42.918779    0.294258  \n",
      "1         23.64    79.526533    0.600371  \n",
      "2         30.80   116.707744    0.536816  \n",
      "3         40.24   205.156758   15.011924  \n",
      "4         58.95   223.711748    1.192949  \n",
      "..          ...          ...         ...  \n",
      "265   126540.94  4509.000000  186.490000  \n",
      "266    22450.75  4646.960000   21.410000  \n",
      "267    60015.02  4628.070000  186.910000  \n",
      "268   128692.80  4575.000000  224.070000  \n",
      "269   263781.85  4501.000000  349.800000  \n",
      "\n",
      "[270 rows x 11 columns]\n"
     ]
    },
    {
     "name": "stderr",
     "output_type": "stream",
     "text": [
      "IOPub data rate exceeded.\n",
      "The Jupyter server will temporarily stop sending output\n",
      "to the client in order to avoid crashing it.\n",
      "To change this limit, set the config variable\n",
      "`--ServerApp.iopub_data_rate_limit`.\n",
      "\n",
      "Current values:\n",
      "ServerApp.iopub_data_rate_limit=1000000.0 (bytes/sec)\n",
      "ServerApp.rate_limit_window=3.0 (secs)\n",
      "\n"
     ]
    }
   ],
   "source": [
    "# DPFS-NULL-pre (including MP)\n",
    "df = parse_fio([\"randread\", \"randwrite\"], [\"4k\", \"16k\", \"64k\"],\n",
    "               [\"2\", \"4\", \"8\", \"16\", \"32\", \"64\", '128'],\n",
    "               [\"1\", \"2\", \"4\", \"8\"], \"DPFS-NULL-pre\", TARGET+\"/DPFS-NULL-pre/\")\n",
    "s = parse_fio([\"randread\", \"randwrite\"], [\"4k\", \"16k\", \"64k\"],\n",
    "               [\"1\"],\n",
    "               [\"1\"], \"DPFS-NULL-pre\", TARGET+\"/DPFS-NULL-pre/\")\n",
    "df = pd.concat((s, df), ignore_index=True)\n",
    "\n",
    "# DPFS-NFS-pre\n",
    "s = parse_fio([\"randread\", \"randwrite\"], [\"4k\", \"16k\", \"64k\"],\n",
    "               [\"1\", \"2\", \"4\", \"8\", \"16\", \"32\", \"64\", '128'],\n",
    "               [\"1\"], \"DPFS-NFS-pre\", TARGET+\"/DPFS-NFS-pre/\")\n",
    "df = pd.concat((s, df), ignore_index=True)\n",
    "\n",
    "# DPFS-NFS-post\n",
    "s = parse_fio([\"randread\", \"randwrite\"], [\"4k\", \"16k\", \"64k\"],\n",
    "               [\"1\", \"2\", \"4\", \"8\", \"16\", \"32\", \"64\", '128'],\n",
    "               [\"1\"], \"DPFS-NFS-post\", TARGET+\"/DPFS-NFS-post/\")\n",
    "df = pd.concat((s, df), ignore_index=True)\n",
    "\n",
    "print(df)\n",
    "\n",
    "df_clat = parse_fio_clat([\"randread\", \"randwrite\"], [\"4k\"], [\"16\", \"128\"], [\"1\"], \"DPFS-NFS-pre\", TARGET+\"/DPFS-NFS-pre/\")\n",
    "s = parse_fio_clat([\"randread\", \"randwrite\"], [\"4k\"], [\"16\", \"128\"], [\"1\"], \"DPFS-NFS-post\", TARGET+\"/DPFS-NFS-post/\")\n",
    "df_clat = pd.concat((s, df_clat), ignore_index=True)"
   ]
  },
  {
   "cell_type": "code",
   "execution_count": null,
   "id": "578d0a7b-d573-43c9-9e2f-c71356738889",
   "metadata": {},
   "outputs": [],
   "source": [
    "# Experiment 1.1\n",
    "plot_tp(df, {'DPFS-NFS-pre': 'DPFS-NFS pre-patch ', 'DPFS-NFS-post': 'DPFS-NFS post-patch '}, '1',\n",
    "        ['4k'], None,\n",
    "        {'DPFS-NFS-pre': 'tab:blue', 'DPFS-NFS-post': 'tab:orange'}\n",
    "        , False, OUT+\"/DPFS-NFS-patch_tp.pdf\")\n",
    "# Experiment 1.2\n",
    "plot_cdf(df_clat, {'DPFS-NFS-pre': 'DPFS-NFS pre-patch ', 'DPFS-NFS-post': 'DPFS-NFS post-patch '},\n",
    "        [\"randread\", \"randwrite\"], \"4k\", \"128\", \"1\",\n",
    "        {'DPFS-NFS-pre': 'tab:blue', 'DPFS-NFS-post': 'tab:orange'}, OUT+\"/DPFS-NFS-patch_cdf.pdf\")"
   ]
  }
 ],
 "metadata": {
  "kernelspec": {
   "display_name": "Python 3 (ipykernel)",
   "language": "python",
   "name": "python3"
  },
  "language_info": {
   "codemirror_mode": {
    "name": "ipython",
    "version": 3
   },
   "file_extension": ".py",
   "mimetype": "text/x-python",
   "name": "python",
   "nbconvert_exporter": "python",
   "pygments_lexer": "ipython3",
   "version": "3.11.4"
  }
 },
 "nbformat": 4,
 "nbformat_minor": 5
}

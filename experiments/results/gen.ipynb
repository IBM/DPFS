{
 "cells": [
  {
   "cell_type": "code",
   "execution_count": 5,
   "metadata": {},
   "outputs": [],
   "source": [
    "\n",
    "\n",
    "import regex as re\n",
    "import numpy as np\n",
    "from statistics import mean, stdev\n",
    "import matplotlib\n",
    "import random\n",
    "import matplotlib.pyplot as plt\n",
    "#from bento_bench import bar_plot, parse_elapsed_secs, get_avg_from_table_str, set_size\n",
    "import pandas as pd\n",
    "import json\n",
    "import os\n",
    "import seaborn as sns\n",
    "matplotlib.use(\"pgf\")\n",
    "matplotlib.rcParams.update({\n",
    "    \"pgf.texsystem\": \"pdflatex\",\n",
    "    'font.family': 'serif',\n",
    "    'text.usetex': True,\n",
    "    'pgf.rcfonts': False,\n",
    "    \"font.size\": 7,\n",
    "})\n",
    "\n",
    "fio_iops_avg_regex = \"(?<=^\\s*iops\\s*: min=\\d*, max=\\d*, avg=)\\d+\\.\\d*\"\n",
    "fio_iops_stdev_regex = \"(?<=^\\s*iops\\s*: min=\\d*, max=\\d*, avg=\\d*\\.*\\d*, stdev=)\\d+\\.\\d*\"\n",
    "\n",
    "# Some are in KiB, some in MiB....\n",
    "fio_bw_kib_avg_regex\"(?<=^\\s*bw \\(  KiB\\/s\\): min=\\d*, max=\\d*, per=\\d*\\.*\\d*%, avg=)\\d+\\.\\d*\"\n",
    "fio_bw_mib_avg_regex\"(?<=^\\s*bw \\(  MiB\\/s\\): min=\\d*, max=\\d*, per=\\d*\\.*\\d*%, avg=)\\d+\\.\\d*\"\n",
    "fio_bw_kib_stdev_regex\"(?<=^\\s*bw \\(  KiB\\/s\\): min=\\d*, max=\\d*, per=\\d*\\.*\\d*%, avg=\\d*\\.*\\d*, stdev=)\\d+\\.\\d*\"\n",
    "fio_bw_mib_stdev_regex\"(?<=^\\s*bw \\(  MiB\\/s\\): min=\\d*, max=\\d*, per=\\d*\\.*\\d*%, avg=\\d*\\.*\\d*, stdev=)\\d+\\.\\d*\"\n"
   ]
  },
  {
   "cell_type": "code",
   "execution_count": 2,
   "metadata": {},
   "outputs": [],
   "source": [
    "def get_instructions(df):\n",
    "    return df.loc[df['event'] == 'instructions', ['val']].iloc[0].item()\n",
    "\n",
    "def get_cpus(df):\n",
    "    return df.loc[df['event'] == 'cpu-clock', ['metric_val']].iloc[0].item()\n",
    "\n",
    "def get_cycles(df):\n",
    "    return df.loc[df['event'] == 'cycles', ['val']].iloc[0].item()\n",
    "\n",
    "# We assume here that all the events have been measured for an equal amount of time\n",
    "def get_time_measured(df):\n",
    "    return df.loc[df['event'] == 'cpu-clock', ['time_measured']].iloc[0].item() / get_cpus(df)\n",
    "\n",
    "def get_ipc(df):\n",
    "    return df.loc[df['event'] == 'instructions', ['metric_val']].iloc[0].item()\n",
    "\n",
    "def get_branches(df):\n",
    "    return df.loc[df['event'] == 'branches', ['val']].iloc[0].item()\n",
    "\n",
    "def get_branch_missrate(df):\n",
    "    return df.loc[df['event'] == 'branch-misses', ['metric_val']].iloc[0].item()\n",
    "\n",
    "def get_val(df, metric):\n",
    "    return df.loc[df['event'] == metric, ['val']].iloc[0].item()"
   ]
  },
  {
   "cell_type": "code",
   "execution_count": 43,
   "metadata": {},
   "outputs": [
    {
     "name": "stdout",
     "output_type": "stream",
     "text": [
      "                      NFS      VNFS\n",
      "Instructions/OP  0.000087  0.000087\n",
      "IPC              0.570000  0.570000\n",
      "Branch missrate  1.980000  1.980000\n"
     ]
    }
   ],
   "source": [
    "perf_stat_colnames = [ \"val\", \"unit\", \"event\", \"time_measured\", \"perctage_measured\", \"metric_val\", \"metric_unit\"]\n",
    "targets = {\n",
    "    \"NFS\": \"./nfs/73cc3a3_zac15_2023-02-25_00:21:44/\",\n",
    "    \"VNFS\": \"./nfs/73cc3a3_zac15_2023-02-25_00:21:44/\",\n",
    "}\n",
    "metrics = [\"Instructions/OP\", \"IPC\", \"Branch missrate\"]\n",
    "# perf time_measured is in nsec\n",
    "runtime = 600 * 10**9\n",
    "perf_nrep = 3\n",
    "\n",
    "perf_load = []\n",
    "iops = []\n",
    "table = pd.DataFrame(index=metrics)\n",
    "for i, (conf, folder) in enumerate(targets.items()):\n",
    "    iops_l = pd.Series(dtype=\"float\")\n",
    "    for i in range(1, perf_nrep+1):\n",
    "        f = open(folder + \"cpu_load_fio_\" + str(i) + \".out\")\n",
    "        matches = re.findall(fio_iops_avg_regex, f.read(), re.MULTILINE)\n",
    "        iops_l = pd.concat((iops_l, pd.Series(np.array(matches).astype(float).sum())))\n",
    "    iops = iops_l.mean()\n",
    "\n",
    "    perf_baseline = pd.DataFrame(columns=[\"instructions\"])\n",
    "    for i in range(1, perf_nrep+1):\n",
    "        f = open(folder + \"cpu_baseline_perf_\" + str(i) + \".out\")\n",
    "        # We skip the first two lines, those are perf event disabled and enabled\n",
    "        f.readline()\n",
    "        f.readline()\n",
    "        raw = pd.read_csv(f, names=perf_stat_colnames)\n",
    "        row = {\n",
    "            \"instructions\": get_instructions(raw)\n",
    "        }\n",
    "        perf_baseline = pd.concat((perf_baseline, pd.DataFrame([row])), ignore_index=True)\n",
    "\n",
    "    perf_load = pd.DataFrame(columns=[\"instructions\", \"ipc\", \"branch_missrate\"])\n",
    "    for i in range(1, perf_nrep+1):\n",
    "        f = open(folder + \"cpu_load_perf_\" + str(i) + \".out\")\n",
    "        # We skip the first two lines, those are perf event disabled and enabled\n",
    "        f.readline()\n",
    "        f.readline()\n",
    "        raw = pd.read_csv(f, names=perf_stat_colnames)\n",
    "        row = {\n",
    "            \"instructions\": get_instructions(raw),\n",
    "            \"ipc\": get_ipc(raw),\n",
    "            \"branch_missrate\": get_branch_missrate(raw)\n",
    "        }\n",
    "        perf_load = pd.concat((perf_load, pd.DataFrame([row])), ignore_index=True)\n",
    "\n",
    "    perf_baseline = perf_baseline.mean()\n",
    "    perf_load = perf_load.mean()\n",
    "    \n",
    "    row = {\n",
    "        metrics[0]: (perf_load[0] - perf_baseline[0]) / runtime / iops,\n",
    "        metrics[1]: perf_load[1],\n",
    "        metrics[2]: perf_load[2]\n",
    "    }\n",
    "    table = table.join(pd.DataFrame([row]).transpose())\n",
    "    table = table.rename(columns={ 0: conf })\n",
    "\n",
    "print(table)\n",
    "table.style.to_latex(\"cpu_analysis.tex\")\n",
    "#get_branches(perf_load[0]) - get_branches(perf_baseline[0])\n",
    "#get_branch_misses(perf_load[0]) - get_branch_misses(perf_baseline[0])\n",
    "#( - get_instructions(perf_baseline[0])) / iops[0]\n",
    "#\n",
    "#\n",
    "#instructions = [\n",
    "#    get_instructions(perf_baseline[0]) / get_time_measured(perf_baseline[0]) * runtime,\n",
    "#    get_instructions(perf_load[0]) / get_time_measured(perf_load[0]) * runtime\n",
    "#]"
   ]
  },
  {
   "cell_type": "code",
   "execution_count": 45,
   "metadata": {},
   "outputs": [
    {
     "ename": "IndexError",
     "evalue": "index 0 is out of bounds for axis 0 with size 0",
     "output_type": "error",
     "traceback": [
      "\u001b[0;31m---------------------------------------------------------------------------\u001b[0m",
      "\u001b[0;31mIndexError\u001b[0m                                Traceback (most recent call last)",
      "Cell \u001b[0;32mIn[45], line 14\u001b[0m\n\u001b[1;32m     12\u001b[0m f \u001b[39m=\u001b[39m \u001b[39mopen\u001b[39m(folder \u001b[39m+\u001b[39m path)\n\u001b[1;32m     13\u001b[0m matches \u001b[39m=\u001b[39m re\u001b[39m.\u001b[39mfindall(fio_iops_avg_regex, f\u001b[39m.\u001b[39mread(), re\u001b[39m.\u001b[39mMULTILINE)\n\u001b[0;32m---> 14\u001b[0m \u001b[39mprint\u001b[39m(np\u001b[39m.\u001b[39;49marray(matches)\u001b[39m.\u001b[39;49mastype(\u001b[39mfloat\u001b[39;49m)[\u001b[39m0\u001b[39;49m])\n",
      "\u001b[0;31mIndexError\u001b[0m: index 0 is out of bounds for axis 0 with size 0"
     ]
    }
   ],
   "source": [
    "target = \"nulldev\"\n",
    "# TODO\n",
    "folder = \"./nfs/73cc3a3_zac15_2023-02-25_00:21:44/\"\n",
    "\n",
    "cols = [\"RW\", \"BS\", \"QD\", \"P\", \"avg\", \"stderr\"]\n",
    "\n",
    "for rw in [\"randread\", \"randwrite\"]:\n",
    "    for bs in [\"1\", \"4k\", \"8k\", \"16k\", \"32k\", \"64k\", \"128k\"]:\n",
    "        for qd in [\"1\", \"2\", \"4\", \"8\", \"16\", \"32\", \"64\", \"128\"]:\n",
    "            p=\"1\"\n",
    "            path = \"fio_\" + rw + \"_\" + bs + \"_\" + qd + \"_\" + p + \".out\"\n",
    "            f = open(folder + path)\n",
    "            matches = re.findall(fio_iops_avg_regex, f.read(), re.MULTILINE)\n",
    "            print(np.array(matches).astype(float)[0])"
   ]
  }
 ],
 "metadata": {
  "kernelspec": {
   "display_name": "Python 3",
   "language": "python",
   "name": "python3"
  },
  "language_info": {
   "codemirror_mode": {
    "name": "ipython",
    "version": 3
   },
   "file_extension": ".py",
   "mimetype": "text/x-python",
   "name": "python",
   "nbconvert_exporter": "python",
   "pygments_lexer": "ipython3",
   "version": "3.11.2"
  },
  "orig_nbformat": 4,
  "vscode": {
   "interpreter": {
    "hash": "aee8b7b246df8f9039afb4144a1f6fd8d2ca17a180786b69acc140d282b71a49"
   }
  }
 },
 "nbformat": 4,
 "nbformat_minor": 2
}

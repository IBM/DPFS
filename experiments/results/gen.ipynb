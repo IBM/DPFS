{
 "cells": [
  {
   "cell_type": "code",
   "execution_count": 20,
   "metadata": {},
   "outputs": [],
   "source": [
    "\n",
    "\n",
    "import regex as re\n",
    "import numpy as np\n",
    "from statistics import mean, stdev\n",
    "import matplotlib\n",
    "import random\n",
    "import matplotlib.pyplot as plt\n",
    "#from bento_bench import bar_plot, parse_elapsed_secs, get_avg_from_table_str, set_size\n",
    "import pandas as pd\n",
    "import json\n",
    "import os\n",
    "import seaborn as sns\n",
    "matplotlib.use(\"pgf\")\n",
    "matplotlib.rcParams.update({\n",
    "    \"pgf.texsystem\": \"pdflatex\",\n",
    "    'font.family': 'serif',\n",
    "    'text.usetex': True,\n",
    "    'pgf.rcfonts': False,\n",
    "    \"font.size\": 7,\n",
    "})\n",
    "\n",
    "fio_iops_avg_regex = \"(?<=^\\s*iops\\s*: min=\\d*, max=\\d*, avg=)\\d+\\.\\d*\"\n"
   ]
  },
  {
   "cell_type": "code",
   "execution_count": 34,
   "metadata": {},
   "outputs": [
    {
     "data": {
      "text/plain": [
       "val    0.00017\n",
       "Name: 5, dtype: float64"
      ]
     },
     "execution_count": 34,
     "metadata": {},
     "output_type": "execute_result"
    }
   ],
   "source": [
    "perf_stat_colnames = [ \"val\", \"unit\", \"event\", \"time_measured\", \"perctage_measured\", \"metric_val\", \"metric_unit\"]\n",
    "targets = [ \"./vnfs/test/\" ]\n",
    "\n",
    "perf_baseline = []\n",
    "perf_load = []\n",
    "iops = []\n",
    "for i, t in enumerate(targets):\n",
    "    perf_baseline.append(pd.read_csv(targets[i] + 'cpu_baseline_perf.out', names=perf_stat_colnames))\n",
    "    perf_load.append(pd.read_csv(targets[i] + 'cpu_load_perf.out', names=perf_stat_colnames))\n",
    "    f = open(targets[i] + 'cpu_load_fio.out')\n",
    "    matches = re.findall(fio_iops_avg_regex, f.read(), re.MULTILINE)\n",
    "    iops.append(np.array(matches).astype(float)[0])\n",
    "\n",
    "def get_instructions(df):\n",
    "    return df.loc[df['event'] == 'instructions', ['val']].iloc[0]\n",
    "\n",
    "def get_ipc(df):\n",
    "    return df.loc[df['event'] == 'instructions', ['metric_val']].iloc[0]\n",
    "\n",
    "def get_branches(df):\n",
    "    return df.loc[df['event'] == 'branches', ['val']].iloc[0]\n",
    "\n",
    "def get_branch_misses(df):\n",
    "    return df.loc[df['event'] == 'branch-misses', ['val']].iloc[0]\n",
    "\n",
    "get_branches(perf_load[0]) - get_branches(perf_baseline[0])\n",
    "get_branch_misses(perf_load[0]) - get_branch_misses(perf_baseline[0])\n",
    "(get_instructions(perf_load[0]) - get_instructions(perf_baseline[0])) / iops[0]"
   ]
  },
  {
   "cell_type": "code",
   "execution_count": null,
   "metadata": {},
   "outputs": [],
   "source": []
  }
 ],
 "metadata": {
  "kernelspec": {
   "display_name": "Python 3",
   "language": "python",
   "name": "python3"
  },
  "language_info": {
   "codemirror_mode": {
    "name": "ipython",
    "version": 3
   },
   "file_extension": ".py",
   "mimetype": "text/x-python",
   "name": "python",
   "nbconvert_exporter": "python",
   "pygments_lexer": "ipython3",
   "version": "3.11.2"
  },
  "orig_nbformat": 4,
  "vscode": {
   "interpreter": {
    "hash": "aee8b7b246df8f9039afb4144a1f6fd8d2ca17a180786b69acc140d282b71a49"
   }
  }
 },
 "nbformat": 4,
 "nbformat_minor": 2
}
